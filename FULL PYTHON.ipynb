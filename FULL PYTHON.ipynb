{
 "cells": [
  {
   "cell_type": "code",
   "execution_count": 1,
   "metadata": {},
   "outputs": [],
   "source": [
    "# TOPICS\n",
    "# ~Class and object\n",
    "# ~Pass by refference\n",
    "# ~Destructor method,__del__\n",
    "# ~Static variable , Global Variable,Instance variable\n",
    "# ~__init__,__add__,__truediv__,__sub__,__mul__,__floordiv__\n",
    "# ~Inheritence\n",
    "# ~Function Overridding\n",
    "# ~Protected, private, public Variable\n",
    "# ~ __base__ , __class__\n",
    "# ~Abstract Method\n",
    "# ~common maths operations\n",
    "# ~Redefining an method\n",
    "# ~Getattr() method\n",
    "# ~Time,Calender Module\n",
    "# ~Global , Globals variable inside function\n",
    "# ~Variable argument\n",
    "# ~ MATH module\n",
    "# ~lamda()\n",
    "# ~map()\n",
    "# ~issubclass()\n",
    "# ~Exception Handling"
   ]
  },
  {
   "cell_type": "code",
   "execution_count": 1,
   "metadata": {},
   "outputs": [
    {
     "name": "stdout",
     "output_type": "stream",
     "text": [
      "enter your namePurva\n",
      "enter your mbo  12345\n",
      "Name = Purva\n",
      "MO.N = 12345\n",
      "city = Raipur\n"
     ]
    }
   ],
   "source": [
    "# The __init__ method can be called when an object is created from the class, \n",
    "# and access is required to initialize the attributes of the class.\n",
    "\n",
    "\n",
    "class person:\n",
    "    def __init__(self,name,mno):\n",
    "        self.name = name\n",
    "        self.mno = mno\n",
    "        self.city = \"Raipur\"\n",
    "    def Print(self):\n",
    "        print(\"Name = %s\"%self.name)\n",
    "        print(\"MO.N = %s\"%self.mno)\n",
    "        print(\"city = %s\"%self.city)\n",
    "a = input(\"enter your name\")\n",
    "b = input(\"enter your mbo  \")\n",
    "p1 = person(a,b)\n",
    "p1.Print()"
   ]
  },
  {
   "cell_type": "code",
   "execution_count": 3,
   "metadata": {},
   "outputs": [
    {
     "name": "stdout",
     "output_type": "stream",
     "text": [
      "init called\n",
      "kk\n",
      "kk\n"
     ]
    }
   ],
   "source": [
    "#Pass By Refference\n",
    "class person:\n",
    "    def __init__(self,name):\n",
    "        self.name = name\n",
    "        print(\"init called\")\n",
    "p1 = person(\"ajay\")\n",
    "p2 = p1\n",
    "p2.name = \"kk\"\n",
    "print(p1.name)#p2 and p1 are both pointing to the same objects so that the change is going on the same object only\n",
    "print(p2.name)"
   ]
  },
  {
   "cell_type": "code",
   "execution_count": 10,
   "metadata": {},
   "outputs": [
    {
     "name": "stdout",
     "output_type": "stream",
     "text": [
      "========================================\n",
      "init called\n",
      "Ajay\n",
      "$$$$$$$$$$$$$$$$$$$$\n",
      "%%%%%%%%%%%%%%%%%%%%\n",
      "destructor called\n",
      "@@@@@@@@@@@@@@@@@@@@@@@@@@@@@@@@@@@@@@@@\n"
     ]
    }
   ],
   "source": [
    "#Destructor Method __del__\n",
    "class person:\n",
    "    def __init__(self,name):\n",
    "        self.name = name\n",
    "        print(\"=\"*40)\n",
    "        print(\"init called\")\n",
    "    def __del__(self):\n",
    "        print(\"destructor called\")\n",
    "p1 = person(\"Ajay\")\n",
    "p2 = p1;#here p1 and p2 both are pointing to the same object\n",
    "print(p1.name)\n",
    "print(\"$\"*20)\n",
    "p1 = None    # we nullify the value in p1 i.e \"Ajay\", still the object is callable as p2 is pointing towards it,hence the destructor is not called\n",
    "            #as we know that a destructor is called when the object has an garbage value\n",
    "print(\"%\"*20)\n",
    "p2 = None  # as we nullify the p2 , now Class Person has no object pointing thus the object for the value i.e \"Ajay\"\n",
    "            # becomes the garbage and now the Destructor will be called\n",
    "print(\"@\"*40)"
   ]
  },
  {
   "cell_type": "code",
   "execution_count": 12,
   "metadata": {},
   "outputs": [
    {
     "name": "stdout",
     "output_type": "stream",
     "text": [
      "MK\n",
      "name is Ajay\n",
      "name is Vikas\n",
      "principal is Niharika\n"
     ]
    }
   ],
   "source": [
    "#the variable inside the class but outside the method is called as static variable , it will be same for every method\n",
    "# static method does not have self argument\n",
    "#statics are not used with objects\n",
    "#className.MethodName/Variable_name\n",
    "class student:\n",
    "    principal = \"MK\" #static Variable\n",
    "    #@notstaticMethod\n",
    "    def __init__(self,name):\n",
    "        self.name = name\n",
    "    def printName(self):\n",
    "        print(\"name is %s\" %self.name) # in Non-Static Self.Variable_name\n",
    "    @staticmethod #Method DEcorator\n",
    "    def printPrincipal():\n",
    "        print(\"principal is %s\" %student.principal)#In Static ClassName.Variable_name\n",
    "        \n",
    "s1 = student('Ajay')\n",
    "s2 = student('Vikas')\n",
    "print(student.principal) \n",
    "student.principal = \"Niharika\" #static method is always changed using Classname only\n",
    "s1.printName()\n",
    "s2.printName()\n",
    "student.printPrincipal()#Static Method are always called using class name"
   ]
  },
  {
   "cell_type": "code",
   "execution_count": 16,
   "metadata": {},
   "outputs": [
    {
     "name": "stdout",
     "output_type": "stream",
     "text": [
      "This is the global variable 10\n",
      "Stat_var\n",
      "This is a Instance variable!\n",
      "the Stat_method is called\n"
     ]
    }
   ],
   "source": [
    "class Variable:\n",
    "    SV = \"Stat_var\" #Static_variable\n",
    "    def __init__(self,IV):\n",
    "        GV = 10 #global_variable , it gets terminated after using the function\n",
    "        self.IV = IV #instance_variable: it has different value for each object\n",
    "        print(\"This is the global variable %s\" %GV)\n",
    "    def printit(self):\n",
    "        print(\"This is a %s\" %self.IV)\n",
    "    @staticmethod\n",
    "    def PrintStat():\n",
    "        print(\"the Stat_method is called\")\n",
    "        \n",
    "v1 = Variable(\"Instance variable!\")\n",
    "print(Variable.SV)\n",
    "v1.printit()\n",
    "Variable.PrintStat()"
   ]
  },
  {
   "cell_type": "code",
   "execution_count": 7,
   "metadata": {},
   "outputs": [],
   "source": [
    "#inside class we cant give self.var\n",
    "#self is always inside the functiion\n",
    "#static method is same for all instance i.e object\n"
   ]
  },
  {
   "cell_type": "code",
   "execution_count": 8,
   "metadata": {},
   "outputs": [
    {
     "name": "stdout",
     "output_type": "stream",
     "text": [
      "Feet = 3 , Inches = 4\n",
      "Feet = 5 , Inches = 9\n",
      "Feet = 9 , Inches = 12\n"
     ]
    }
   ],
   "source": [
    "#__str__ is used to whenever we want to print the object in a certain form of string\n",
    "# __add__ is used whenever we use plus '+' operator, here the value at left of the operator becomes the self and next is given i.e L2\n",
    "class length:\n",
    "    def __init__(self,ft,en):\n",
    "        self.ft = ft\n",
    "        self.en = en\n",
    "    def __str__(self):\n",
    "        return \"Feet = %d , Inches = %d\" %(self.ft , self.en)\n",
    "    def __add__(self,L2):\n",
    "        res = length(L1.ft+L2.ft, L1.en+L2.en)\n",
    "        if res.en>=12:\n",
    "            res.en = 12\n",
    "            res.ft+=1\n",
    "        return res\n",
    "L1 = length(3,4)\n",
    "print(L1)\n",
    "L2 = length(5,9)\n",
    "print(L2)\n",
    "print(L1+L2)"
   ]
  },
  {
   "cell_type": "code",
   "execution_count": 9,
   "metadata": {},
   "outputs": [
    {
     "name": "stdout",
     "output_type": "stream",
     "text": [
      "Feet = 3 , Inches = 4\n",
      "Feet = 5 , Inches = 9\n",
      "Feet = 9 , Inches = 12\n",
      "('the true division is', 0.5797101449275363)\n",
      "('the Floor division is', 0)\n",
      "('The multiplication is ', 2760)\n",
      "-29  is not valid\n",
      "None\n"
     ]
    }
   ],
   "source": [
    "#__str__ is used to whenever we want to print the object in a certain form of string\n",
    "# __add__ is used whenever we use plus '+' operator, here the value at left of the operator becomes the self and next is given i.e L2\n",
    "class length:\n",
    "    def __init__(self,ft,en):\n",
    "        self.ft = ft\n",
    "        self.en = en\n",
    "    def __str__(self):\n",
    "        return \"Feet = %d , Inches = %d\" %(self.ft , self.en)\n",
    "    def __add__(self,L2):\n",
    "        res = length(L1.ft+L2.ft, L1.en+L2.en)\n",
    "        if res.en>=12:\n",
    "            res.en = 12\n",
    "            res.ft+=1\n",
    "        return res\n",
    "    def __truediv__(self,L2):\n",
    "        en1 = self.en + self.ft*12\n",
    "        en2 = L2.en + L2.ft*12\n",
    "        return \"the true division is\",en1/en2\n",
    "    def __floordiv__(self,L2):\n",
    "        en1 = self.en + self.ft*12\n",
    "        en2 = L2.en + L2.ft*12\n",
    "        return \"the Floor division is\",en1//en2\n",
    "    def __mul__(self,L2):\n",
    "        en1 = self.en + self.ft*12\n",
    "        en2 = L2.en +L2.ft*12\n",
    "        return \"The multiplication is \",en1*en2\n",
    "    def __sub__(self,L2):\n",
    "        en1 = self.en + self.ft*12\n",
    "        en2 = L2.en + L2.ft*12\n",
    "        if en1-en2 < 0:\n",
    "            print(en1-en2,\" is not valid\")\n",
    "        else:\n",
    "            return \"the Subtraction is\",en1-en2\n",
    "L1 = length(3,4)\n",
    "print(L1)\n",
    "L2 = length(5,9)\n",
    "print(L2)\n",
    "L3 = L1+L2\n",
    "print(L3)\n",
    "L4 = L1/L2\n",
    "print(L4)\n",
    "L5 = L1//L2\n",
    "print(L5)\n",
    "L6 = L1*L2\n",
    "print(L6)\n",
    "L7 = L1-L2\n",
    "print(L7)"
   ]
  },
  {
   "cell_type": "code",
   "execution_count": 10,
   "metadata": {},
   "outputs": [],
   "source": [
    "# __add__\n",
    "# __mul__\n",
    "# __sub__\n",
    "# __truediv__ (/)\n",
    "# __floordiv__(//)\n",
    "#the above pre-defined functions overwrite the add,sub,mul,trueDiv,floorDiv operators,\n",
    "# whenever they are performed in the program"
   ]
  },
  {
   "cell_type": "code",
   "execution_count": 11,
   "metadata": {},
   "outputs": [
    {
     "data": {
      "text/plain": [
       "1.0"
      ]
     },
     "execution_count": 11,
     "metadata": {},
     "output_type": "execute_result"
    }
   ],
   "source": [
    "#true divsion\n",
    "2/2"
   ]
  },
  {
   "cell_type": "code",
   "execution_count": 12,
   "metadata": {},
   "outputs": [
    {
     "data": {
      "text/plain": [
       "1"
      ]
     },
     "execution_count": 12,
     "metadata": {},
     "output_type": "execute_result"
    }
   ],
   "source": [
    "#floor division\n",
    "2//2"
   ]
  },
  {
   "cell_type": "code",
   "execution_count": 13,
   "metadata": {},
   "outputs": [],
   "source": [
    "#inheritence\n",
    "# we have a parent and a child class in inheritence\n",
    "#where child class inherits all the property of parent class\n",
    "#we can say that child class is nothing but the category of a parent class\n",
    "#for ex, if we create a parent class i.e PERSON and a child class that inherit it i.e STUDENT\n",
    "#then we can say that in different categories that a PERSON can be in, this PERSON is a STUDENT"
   ]
  },
  {
   "cell_type": "code",
   "execution_count": 19,
   "metadata": {},
   "outputs": [
    {
     "name": "stdout",
     "output_type": "stream",
     "text": [
      "PrintRn is called\n",
      "printName is called\n",
      "BAl for student\n",
      "****************************************\n",
      "printDetails is called\n",
      "RN\n"
     ]
    }
   ],
   "source": [
    "class person:\n",
    "    def printName(self):\n",
    "        print('printName is called')\n",
    "    def  getAccBAl(self):\n",
    "        print('getAccBal is called for staff')\n",
    "    def printDetails(self):          #function Overriding\n",
    "        print('printDetails is called')\n",
    "class student(person):\n",
    "    def PrintRn(self):\n",
    "        print('PrintRn is called')\n",
    "    def getAccBAl(Self):\n",
    "        print(\"BAl for student\")\n",
    "    def printDetails(self):\n",
    "        super().printDetails() #to call a functions in parent class i.e super class\n",
    "       # person.printDetails(self)# you can also call it by this method i.e parentName.MethodName()\n",
    "        print('RN')\n",
    "s1 = student()\n",
    "s1.PrintRn()\n",
    "s1.printName()\n",
    "s1.getAccBAl()\n",
    "print(\"*\"*40)\n",
    "s1.printDetails()"
   ]
  },
  {
   "cell_type": "code",
   "execution_count": 15,
   "metadata": {},
   "outputs": [],
   "source": [
    "#In python the constructors like __init__,__str__ etc can be overrided as normal methods,unlikely in other languages\n",
    "#similary if you child does not have __init__ but parent has then ,the parent one will be called\n",
    "#\n"
   ]
  },
  {
   "cell_type": "code",
   "execution_count": 25,
   "metadata": {},
   "outputs": [
    {
     "name": "stdout",
     "output_type": "stream",
     "text": [
      "M1 from student\n",
      "M1 from person\n"
     ]
    }
   ],
   "source": [
    "# if both parent and child class have same funcition_names then we can call them by creating one object also\n",
    "# like creating an object for child class and passing that object to parent class as self\n",
    "\n",
    "class Person:\n",
    "    def m1(self):\n",
    "        print('M1 from person')\n",
    "\n",
    "class Student(Person):\n",
    "    def m1(self):\n",
    "        print('M1 from student')\n",
    "        \n",
    "s1 = Student()\n",
    "s1.m1() #object_name.Method_nam/\\e/\n",
    "Person.m1(s1) #ParentClass_name.Method_name(Object.Name as Self)"
   ]
  },
  {
   "cell_type": "code",
   "execution_count": 26,
   "metadata": {},
   "outputs": [
    {
     "name": "stdout",
     "output_type": "stream",
     "text": [
      "which class do you want to call Person\n",
      "M1 from person\n"
     ]
    }
   ],
   "source": [
    "class Person:\n",
    "    def m1(self):\n",
    "        print('M1 from person')\n",
    "\n",
    "class Student():\n",
    "    def m1(self):\n",
    "        print('M1 from student')\n",
    "s1= Student()\n",
    "\n",
    "a = input(\"which class do you want to call \")\n",
    "\n",
    "if  a == \"Student\":\n",
    "    s1.m1()\n",
    "else:\n",
    "    Person.m1(s1)\n",
    "\n",
    "    \n"
   ]
  },
  {
   "cell_type": "code",
   "execution_count": 18,
   "metadata": {},
   "outputs": [],
   "source": [
    "#Super() is used when only one parent is inherited by the child"
   ]
  },
  {
   "cell_type": "code",
   "execution_count": 32,
   "metadata": {},
   "outputs": [
    {
     "name": "stdout",
     "output_type": "stream",
     "text": [
      "m1 from I\n"
     ]
    }
   ],
   "source": [
    "class PrithviVasi:\n",
    "    def m0(self):\n",
    "        print(\"m0 from pv\")\n",
    "    def m101(self):\n",
    "        print(\"m101 from pv\")\n",
    "\n",
    "class person:\n",
    "    def m2(self):\n",
    "        print('m2 from p')\n",
    "    def m100(self):\n",
    "        print('m100 from p')\n",
    "    def m101(self):\n",
    "        print('m101 from p')\n",
    "\n",
    "class indian(PrithviVasi):\n",
    "    def m1(self):\n",
    "        print('m1 from I')\n",
    "    def m100(self):\n",
    "        print('m100 from I')\n",
    "    def m101(self):\n",
    "        print('m101 from I')\n",
    "    \n",
    "    \n",
    "class student(indian,person):\n",
    "    def m3(self):\n",
    "        print('m3 from s')\n",
    "    \n",
    "    def m101(self):\n",
    "        person.m101(self)\n",
    "        indian.m101(self)\n",
    "        PrithviVasi.m101(self)\n",
    "        print('m101 from s')\n",
    "        \n",
    "s1 = student()\n",
    "# s1.m0()\n",
    "# s1.m100()\n",
    "# s1.m101()\n",
    "# s1.m2()\n",
    "s1.m1()\n",
    "\n",
    "              "
   ]
  },
  {
   "cell_type": "code",
   "execution_count": 20,
   "metadata": {},
   "outputs": [],
   "source": [
    "# In python Private,Protected variable are not supported\n",
    "# but we can declare a variable private ,  protected by using some underscores i.e _s,__s1\n",
    "# even though this variable can be used by other class,  no error will be given\n",
    "\n",
    "\n"
   ]
  },
  {
   "cell_type": "code",
   "execution_count": 37,
   "metadata": {},
   "outputs": [
    {
     "name": "stdout",
     "output_type": "stream",
     "text": [
      "to access the private variable\n",
      "3\n"
     ]
    }
   ],
   "source": [
    "class Person:\n",
    "    s1 = 1\n",
    "    _s2 = 2 #protected\n",
    "    __s3 = 3 #private\n",
    "    __s4__ = 4 #it will be public due to post __\n",
    "\n",
    "    def PrintAll(self):\n",
    "        print(Person.s1)\n",
    "        print(Person._s2)\n",
    "        print(Person.__s3)\n",
    "        print(Person.__s4__)\n",
    "\n",
    "p1 = Person()\n",
    "# p1.PrintAll()\n",
    "\n",
    "# print(Person.s1)\n",
    "# print(Person._s2)\n",
    "# print(Person.__s3) # this will generate an error as it is a private variable\n",
    "# print(Person.__s4__)\n",
    "# print(\"-\" * 50)\n",
    "print(\"to access the private variable\")\n",
    "# print(\"Use 'ClassName._ClassName__VarName' \")\n",
    "print(Person._Person__s3)"
   ]
  },
  {
   "cell_type": "code",
   "execution_count": 22,
   "metadata": {},
   "outputs": [],
   "source": [
    "# In python Parent Class is called as Base Class i.e __Bases__\n",
    "# the super class is \"OBJECT\" i.e the Parent Class Will inherit From the Object class i.e supermost class\n",
    "#the Child class will HAve 'TYPE' object"
   ]
  },
  {
   "cell_type": "code",
   "execution_count": 23,
   "metadata": {},
   "outputs": [
    {
     "name": "stdout",
     "output_type": "stream",
     "text": [
      "THE BASE OR PARENT CLASS OF STUDENT CLASS IS:\n",
      "(<class '__main__.Person'>,)\n",
      "------------------------------------------------------------\n",
      "THE BASE CLASS OF PERSON CLASS IS:\n",
      "(<class 'object'>,)\n",
      "------------------------------------------------------------\n",
      "THE CLASS OF THE CREATED OBJECT i.e s1\n",
      "<class '__main__.student'>\n",
      "------------------------------------------------------------\n",
      "THE CLASS OF PARENT CLASS i.e PERSON IS\n",
      "<class 'type'>\n"
     ]
    }
   ],
   "source": [
    "class Person:\n",
    "    pass\n",
    "class student(Person):\n",
    "    pass\n",
    "\n",
    "s1 = student()\n",
    "print('THE BASE OR PARENT CLASS OF STUDENT CLASS IS:')\n",
    "print(student.__bases__)\n",
    "print(\"-\"*60)\n",
    "print(\"THE BASE CLASS OF PERSON CLASS IS:\")\n",
    "print(Person.__bases__)\n",
    "print(\"-\"*60)\n",
    "print(\"THE CLASS OF THE CREATED OBJECT i.e s1\")\n",
    "print(s1.__class__)\n",
    "print(\"-\"*60)\n",
    "print(\"THE CLASS OF PARENT CLASS i.e PERSON IS\")\n",
    "print(Person.__class__)"
   ]
  },
  {
   "cell_type": "code",
   "execution_count": 24,
   "metadata": {},
   "outputs": [
    {
     "name": "stdout",
     "output_type": "stream",
     "text": [
      "Help on class object in module builtins:\n",
      "\n",
      "class object\n",
      " |  The most base type\n",
      "\n"
     ]
    }
   ],
   "source": [
    "help(object)"
   ]
  },
  {
   "cell_type": "code",
   "execution_count": 25,
   "metadata": {},
   "outputs": [],
   "source": [
    "#python does not have abstract method i.e the method of parent class which is compulsory for the child\n",
    "# class to have\n",
    "\n",
    "#but to use abstract class we can use an module named ABC i.e Abstarct Base Class\n",
    "\n",
    "#META DATA: Data of Data\n",
    "#META CLASS: Class of Class i.e Object\n",
    "#when we want to make a method abstract in python we change the TYPE  of the class i.e FROM TYPE TO abc.ABCMeta"
   ]
  },
  {
   "cell_type": "code",
   "execution_count": 41,
   "metadata": {},
   "outputs": [
    {
     "ename": "TypeError",
     "evalue": "Can't instantiate abstract class circle with abstract methods getArea",
     "output_type": "error",
     "traceback": [
      "\u001b[1;31m---------------------------------------------------------------------------\u001b[0m",
      "\u001b[1;31mTypeError\u001b[0m                                 Traceback (most recent call last)",
      "\u001b[1;32m<ipython-input-41-d6111aea8051>\u001b[0m in \u001b[0;36m<module>\u001b[1;34m\u001b[0m\n\u001b[0;32m     18\u001b[0m         \u001b[0mprint\u001b[0m\u001b[1;33m(\u001b[0m\u001b[0mself\u001b[0m\u001b[1;33m.\u001b[0m\u001b[0mr\u001b[0m\u001b[1;33m*\u001b[0m\u001b[0mself\u001b[0m\u001b[1;33m.\u001b[0m\u001b[0mr\u001b[0m\u001b[1;33m)\u001b[0m\u001b[1;33m\u001b[0m\u001b[1;33m\u001b[0m\u001b[0m\n\u001b[0;32m     19\u001b[0m \u001b[1;33m\u001b[0m\u001b[0m\n\u001b[1;32m---> 20\u001b[1;33m \u001b[0mc1\u001b[0m \u001b[1;33m=\u001b[0m\u001b[0mcircle\u001b[0m\u001b[1;33m(\u001b[0m\u001b[1;36m3\u001b[0m\u001b[1;33m)\u001b[0m\u001b[1;33m\u001b[0m\u001b[1;33m\u001b[0m\u001b[0m\n\u001b[0m\u001b[0;32m     21\u001b[0m \u001b[0ms1\u001b[0m \u001b[1;33m=\u001b[0m \u001b[0msquare\u001b[0m\u001b[1;33m(\u001b[0m\u001b[1;36m3\u001b[0m\u001b[1;33m)\u001b[0m\u001b[1;33m\u001b[0m\u001b[1;33m\u001b[0m\u001b[0m\n\u001b[0;32m     22\u001b[0m \u001b[1;33m\u001b[0m\u001b[0m\n",
      "\u001b[1;31mTypeError\u001b[0m: Can't instantiate abstract class circle with abstract methods getArea"
     ]
    }
   ],
   "source": [
    "import abc\n",
    "#this abstract method will be compulsory to all the child\n",
    "class shape(metaclass=abc.ABCMeta):\n",
    "    @abc.abstractmethod\n",
    "    def getArea(self):\n",
    "        pass\n",
    "class circle(shape):\n",
    "    def __init__(self,r):\n",
    "        self.r = r;\n",
    "#this wil generate a type error as this abatact method is compulsory for all child\n",
    "#     def getArea(self):\n",
    "#         print(3.14*self.r*self.r)\n",
    "\n",
    "class square(shape):\n",
    "    def __init__(self,r):\n",
    "        self.r = r;\n",
    "    def getArea(self):\n",
    "        print(self.r*self.r)\n",
    "    \n",
    "c1 =circle(3)\n",
    "s1 = square(3)\n",
    "\n",
    "c1.getArea()\n",
    "s1.getArea()\n",
    "# print(shape.__class__)"
   ]
  },
  {
   "cell_type": "code",
   "execution_count": 28,
   "metadata": {},
   "outputs": [
    {
     "name": "stdout",
     "output_type": "stream",
     "text": [
      "2.5\n",
      "2\n",
      "6\n",
      "27\n",
      "2\n",
      "2.35\n",
      "68800.0\n",
      "                                   phone book                                   \n",
      "***********************************phone book***********************************\n",
      "p1,p2,p3\n"
     ]
    }
   ],
   "source": [
    "print(5/2)\n",
    "print(5//2)\n",
    "print(3*2)\n",
    "print(3**3)\n",
    "print(round(2.345678845))\n",
    "print(round(2.345678845,2))\n",
    "print(round(68795.434356277,-2))\n",
    "print(\"phone book\".center(80))\n",
    "print(\"phone book\".center(80,\"*\"))\n",
    "L1 = [\"p1\",\"p2\",\"p3\"]\n",
    "print(\",\".join(L1))"
   ]
  },
  {
   "cell_type": "code",
   "execution_count": null,
   "metadata": {},
   "outputs": [],
   "source": [
    "#in python we can redefine the variable of same names\n",
    "def m1():\n",
    "    print('m1.......')\n",
    "m1()  \n",
    "def m1(name): # redefining the method m1 with a name argument\n",
    "    print('hi %s'%name)\n",
    "m1('purva')\n",
    "#m1() # this method call will produce an error as it has be redefined"
   ]
  },
  {
   "cell_type": "code",
   "execution_count": null,
   "metadata": {},
   "outputs": [],
   "source": [
    "# GETATTR : this method is used to create new variable while calling the object.\n",
    "\n",
    "# this  method can be used when we want a specific variable of a specifice object and if\n",
    "# there it is not present , then we can also define a default value\n",
    "#  SYNTAX: getattr(object_name,'variable',default_value)"
   ]
  },
  {
   "cell_type": "code",
   "execution_count": 50,
   "metadata": {},
   "outputs": [
    {
     "name": "stdout",
     "output_type": "stream",
     "text": [
      "abc\n",
      "def\n"
     ]
    },
    {
     "ename": "AttributeError",
     "evalue": "'person' object has no attribute 'age'",
     "output_type": "error",
     "traceback": [
      "\u001b[1;31m---------------------------------------------------------------------------\u001b[0m",
      "\u001b[1;31mAttributeError\u001b[0m                            Traceback (most recent call last)",
      "\u001b[1;32m<ipython-input-50-4d6c8bff7498>\u001b[0m in \u001b[0;36m<module>\u001b[1;34m\u001b[0m\n\u001b[0;32m      8\u001b[0m \u001b[1;31m# print(p1.age)\u001b[0m\u001b[1;33m\u001b[0m\u001b[1;33m\u001b[0m\u001b[1;33m\u001b[0m\u001b[0m\n\u001b[0;32m      9\u001b[0m \u001b[0mprint\u001b[0m\u001b[1;33m(\u001b[0m\u001b[0mp2\u001b[0m\u001b[1;33m.\u001b[0m\u001b[0mname\u001b[0m\u001b[1;33m)\u001b[0m\u001b[1;33m\u001b[0m\u001b[1;33m\u001b[0m\u001b[0m\n\u001b[1;32m---> 10\u001b[1;33m \u001b[0mprint\u001b[0m\u001b[1;33m(\u001b[0m\u001b[0mp2\u001b[0m\u001b[1;33m.\u001b[0m\u001b[0mage\u001b[0m\u001b[1;33m)\u001b[0m\u001b[1;33m\u001b[0m\u001b[1;33m\u001b[0m\u001b[0m\n\u001b[0m\u001b[0;32m     11\u001b[0m \u001b[0mprint\u001b[0m\u001b[1;33m(\u001b[0m\u001b[0mgetattr\u001b[0m\u001b[1;33m(\u001b[0m\u001b[0mp2\u001b[0m\u001b[1;33m,\u001b[0m\u001b[1;34m'age'\u001b[0m\u001b[1;33m,\u001b[0m\u001b[1;33m-\u001b[0m\u001b[1;36m1\u001b[0m\u001b[1;33m)\u001b[0m\u001b[1;33m)\u001b[0m\u001b[1;33m\u001b[0m\u001b[1;33m\u001b[0m\u001b[0m\n\u001b[0;32m     12\u001b[0m \u001b[0mprint\u001b[0m\u001b[1;33m(\u001b[0m\u001b[0mgetattr\u001b[0m\u001b[1;33m(\u001b[0m\u001b[0mp1\u001b[0m\u001b[1;33m,\u001b[0m\u001b[1;34m'age'\u001b[0m\u001b[1;33m,\u001b[0m\u001b[1;33m-\u001b[0m\u001b[1;36m2\u001b[0m\u001b[1;33m)\u001b[0m\u001b[1;33m)\u001b[0m\u001b[1;33m\u001b[0m\u001b[1;33m\u001b[0m\u001b[0m\n",
      "\u001b[1;31mAttributeError\u001b[0m: 'person' object has no attribute 'age'"
     ]
    }
   ],
   "source": [
    "class person:\n",
    "    def __init__(self,name):\n",
    "        self.name = name\n",
    "p1 = person('abc')\n",
    "p2 = person('def')\n",
    "p1.age=10\n",
    "print(p1.name)\n",
    "# print(p1.age)\n",
    "print(p2.name)\n",
    "print(p2.age)\n",
    "print(getattr(p2,'age',-1))\n",
    "print(getattr(p1,'age',-2))"
   ]
  },
  {
   "cell_type": "code",
   "execution_count": 57,
   "metadata": {},
   "outputs": [
    {
     "name": "stdout",
     "output_type": "stream",
     "text": [
      "1588777008.1408563\n",
      "20:26:48\n",
      "06/05/20\n"
     ]
    }
   ],
   "source": [
    "import time\n",
    "print(time.time()) #total seconds from 1 jan 1970 from 12:00am to till date\n",
    "print(time.strftime(\"%H:%M:%S\"))\n",
    "print(time.strftime(\"%d/%m/%y\"))"
   ]
  },
  {
   "cell_type": "code",
   "execution_count": 56,
   "metadata": {},
   "outputs": [
    {
     "name": "stdout",
     "output_type": "stream",
     "text": [
      "1588777005.112824\n"
     ]
    }
   ],
   "source": [
    "from time import time,strftime\n",
    "print(time())"
   ]
  },
  {
   "cell_type": "code",
   "execution_count": 60,
   "metadata": {},
   "outputs": [
    {
     "name": "stdout",
     "output_type": "stream",
     "text": [
      "      May 2020\n",
      "Mo Tu We Th Fr Sa Su\n",
      "             1  2  3\n",
      " 4  5  6  7  8  9 10\n",
      "11 12 13 14 15 16 17\n",
      "18 19 20 21 22 23 24\n",
      "25 26 27 28 29 30 31\n",
      "\n"
     ]
    }
   ],
   "source": [
    "import calendar\n",
    "print(calendar.month(2020,5))"
   ]
  },
  {
   "cell_type": "code",
   "execution_count": 53,
   "metadata": {},
   "outputs": [
    {
     "name": "stdout",
     "output_type": "stream",
     "text": [
      "2 2\n"
     ]
    }
   ],
   "source": [
    "v1 = 2 #glbal variable\n",
    "v2 = 2\n",
    "def m1():\n",
    "    #to use global variable inside any method then we have to define global variable\n",
    "    global v1,v2\n",
    "    v1 = 4 #local variable\n",
    "    v2 = 4\n",
    "    print(v1)\n",
    "    print(v2)\n",
    "# m1() # will print variable under the methods\n",
    "print(v1,v2) # will print variables outside the method"
   ]
  },
  {
   "cell_type": "code",
   "execution_count": 54,
   "metadata": {},
   "outputs": [
    {
     "name": "stdout",
     "output_type": "stream",
     "text": [
      "5\n",
      "6\n",
      "4\n",
      "****************************************************************************************************\n",
      "5\n",
      "2\n"
     ]
    }
   ],
   "source": [
    "v1 = 2\n",
    "v2 = 2\n",
    "def m1():\n",
    "    global v1\n",
    "    v1 = 5 #global variable\n",
    "    v3 = 4 #local variable\n",
    "    v2 = 6 #local variable\n",
    "    print(v1)\n",
    "    print(v2)\n",
    "    print(v3)\n",
    "m1()\n",
    "print(\"*\" * 100)\n",
    "print(v1)\n",
    "print(v2)\n",
    "#print(v3) # this will genrate NameError as the variable inside the function or method can't be called\n",
    "# outside the method"
   ]
  },
  {
   "cell_type": "code",
   "execution_count": 61,
   "metadata": {},
   "outputs": [
    {
     "name": "stdout",
     "output_type": "stream",
     "text": [
      "False\n",
      "2234354\n",
      "345567\n"
     ]
    }
   ],
   "source": [
    "#if we want to have local and global variable of same name then we will use Globals() Method\n",
    "v2 = 2234354\n",
    "def m1():\n",
    "    v2 = 345567\n",
    "    G = globals() \n",
    "    print(v2 in G)\n",
    "    print(G['v2']) #this will give output for global variable\n",
    "    print(v2 ) #this will the Local Variable of the function of same named as global variable\n",
    "    \n",
    "m1()\n"
   ]
  },
  {
   "cell_type": "code",
   "execution_count": null,
   "metadata": {},
   "outputs": [],
   "source": [
    "#VARIABLE ARGUMENT\n",
    "#when we want a method to take several arguments then we use a '*' before the variable name\n",
    "#which makes it all the arguments in a tupple (*v) \n",
    "# it is a tupple of arguments given in the method parameters"
   ]
  },
  {
   "cell_type": "code",
   "execution_count": 65,
   "metadata": {},
   "outputs": [],
   "source": [
    "#for ex, here we have created method m1(v1) passing an argument v1\n",
    "# while calling m1(2) , it gets executed\n",
    "# but when we call m1(1,2) i.e with 2 arguments, it shows type error\n",
    "def m1(v1):\n",
    "    pass\n",
    "m1(2)\n",
    "# m1(1,2)\n",
    "m1(__dict__)"
   ]
  },
  {
   "cell_type": "code",
   "execution_count": 64,
   "metadata": {},
   "outputs": [
    {
     "name": "stdout",
     "output_type": "stream",
     "text": [
      "(1,)\n",
      "(2, 3, 4, 5)\n",
      "(1, 2, 3, 4, 5, 6, 7, 8, 9, 0, 1)\n"
     ]
    }
   ],
   "source": [
    "# to solve above\n",
    "#all the method calls with different numbers of arguments runs successfully\n",
    "def m1(*v1):\n",
    "    print(v1)\n",
    "m1(1)\n",
    "m1(2,3,4,5)\n",
    "m1(1,2,3,4,5,6,7,8,9,0,1)"
   ]
  },
  {
   "cell_type": "code",
   "execution_count": 67,
   "metadata": {},
   "outputs": [
    {
     "name": "stdout",
     "output_type": "stream",
     "text": [
      "1\n",
      "----------------------------------------------------------------------------------------------------\n",
      "()\n",
      "2\n",
      "----------------------------------------------------------------------------------------------------\n",
      "(3, 4, 5)\n",
      "1\n",
      "----------------------------------------------------------------------------------------------------\n",
      "(2, 3, 4, 5, 6, 7, 8, 9, 0, 1)\n"
     ]
    }
   ],
   "source": [
    "def m1(i,*v):\n",
    "    print(i) #the first argument passed will be stored here\n",
    "    print(\"-\" * 100)\n",
    "    print(v) #The rest all aguments will be stored here\n",
    "m1(1)\n",
    "m1(2,3,4,5)\n",
    "m1(1,2,3,4,5,6,7,8,9,0,1)"
   ]
  },
  {
   "cell_type": "code",
   "execution_count": 68,
   "metadata": {},
   "outputs": [
    {
     "name": "stdout",
     "output_type": "stream",
     "text": [
      "{}\n",
      "{'name': 'Purva', 'city': 'Raipur', 'country': 'India'}\n",
      "{'course': 'CSE'}\n"
     ]
    }
   ],
   "source": [
    "# \"*\" maeks a tupple\n",
    "#' ** ' makes a dictionary\n",
    "\n",
    "def m1(**va):\n",
    "    print(va)\n",
    "m1()\n",
    "m1(name = 'Purva' , city = 'Raipur' , country = 'India')\n",
    "m1(course = 'CSE')"
   ]
  },
  {
   "cell_type": "code",
   "execution_count": 69,
   "metadata": {},
   "outputs": [
    {
     "name": "stdout",
     "output_type": "stream",
     "text": [
      "__name__ :: math\n",
      "__doc__ :: This module is always available.  It provides access to the\n",
      "mathematical functions defined by the C standard.\n",
      "__package__ :: \n",
      "__loader__ :: <class '_frozen_importlib.BuiltinImporter'>\n",
      "__spec__ :: ModuleSpec(name='math', loader=<class '_frozen_importlib.BuiltinImporter'>, origin='built-in')\n",
      "acos :: <built-in function acos>\n",
      "acosh :: <built-in function acosh>\n",
      "asin :: <built-in function asin>\n",
      "asinh :: <built-in function asinh>\n",
      "atan :: <built-in function atan>\n",
      "atan2 :: <built-in function atan2>\n",
      "atanh :: <built-in function atanh>\n",
      "ceil :: <built-in function ceil>\n",
      "copysign :: <built-in function copysign>\n",
      "cos :: <built-in function cos>\n",
      "cosh :: <built-in function cosh>\n",
      "degrees :: <built-in function degrees>\n",
      "erf :: <built-in function erf>\n",
      "erfc :: <built-in function erfc>\n",
      "exp :: <built-in function exp>\n",
      "expm1 :: <built-in function expm1>\n",
      "fabs :: <built-in function fabs>\n",
      "factorial :: <built-in function factorial>\n",
      "floor :: <built-in function floor>\n",
      "fmod :: <built-in function fmod>\n",
      "frexp :: <built-in function frexp>\n",
      "fsum :: <built-in function fsum>\n",
      "gamma :: <built-in function gamma>\n",
      "gcd :: <built-in function gcd>\n",
      "hypot :: <built-in function hypot>\n",
      "isclose :: <built-in function isclose>\n",
      "isfinite :: <built-in function isfinite>\n",
      "isinf :: <built-in function isinf>\n",
      "isnan :: <built-in function isnan>\n",
      "ldexp :: <built-in function ldexp>\n",
      "lgamma :: <built-in function lgamma>\n",
      "log :: <built-in function log>\n",
      "log1p :: <built-in function log1p>\n",
      "log10 :: <built-in function log10>\n",
      "log2 :: <built-in function log2>\n",
      "modf :: <built-in function modf>\n",
      "pow :: <built-in function pow>\n",
      "radians :: <built-in function radians>\n",
      "remainder :: <built-in function remainder>\n",
      "sin :: <built-in function sin>\n",
      "sinh :: <built-in function sinh>\n",
      "sqrt :: <built-in function sqrt>\n",
      "tan :: <built-in function tan>\n",
      "tanh :: <built-in function tanh>\n",
      "trunc :: <built-in function trunc>\n",
      "pi :: 3.141592653589793\n",
      "e :: 2.718281828459045\n",
      "tau :: 6.283185307179586\n",
      "inf :: inf\n",
      "nan :: nan\n"
     ]
    }
   ],
   "source": [
    "import math\n",
    "d1 = math.__dict__\n",
    "for k in d1:\n",
    "    print(\"%s :: %s\" %(k,d1[k]))"
   ]
  },
  {
   "cell_type": "code",
   "execution_count": null,
   "metadata": {},
   "outputs": [],
   "source": [
    "#LAMBDA FUNCTIONS:: ANONYMUS FUNCTION\n",
    "#syntax : lamda var1,var2 : operation\n",
    "#ex :    lamda v1,v2 : v1 + v2"
   ]
  },
  {
   "cell_type": "code",
   "execution_count": 70,
   "metadata": {},
   "outputs": [
    {
     "name": "stdout",
     "output_type": "stream",
     "text": [
      "5\n"
     ]
    }
   ],
   "source": [
    "class Abc:\n",
    "    pass\n",
    "a1 = Abc()\n",
    "a1.name = 'kk'\n",
    "Abc.sum = lambda n1, n2 : n1+n2\n",
    "print(Abc.sum(2,3))"
   ]
  },
  {
   "cell_type": "code",
   "execution_count": null,
   "metadata": {},
   "outputs": [],
   "source": [
    "#MAP FUNCTIONS\n",
    "#python list uses map function to operate ech element of the list\n",
    "#syntax: map(function_name,list_name) , this will print the memory location, where the outputs have been mappe\n",
    "#to make a list : list(map(function_name,list_name))"
   ]
  },
  {
   "cell_type": "code",
   "execution_count": 75,
   "metadata": {},
   "outputs": [
    {
     "name": "stdout",
     "output_type": "stream",
     "text": [
      "[4, 25, 64, 81, 121]\n"
     ]
    }
   ],
   "source": [
    "a = [2,5,8,9,11]\n",
    "def sq(n):\n",
    "    return n*n\n",
    "# print(map(sq,a))\n",
    "print(list(map(sq,a)))"
   ]
  },
  {
   "cell_type": "code",
   "execution_count": 72,
   "metadata": {},
   "outputs": [
    {
     "name": "stdout",
     "output_type": "stream",
     "text": [
      "[289, 1, 1, 169, 1, 1, 144, 1, 121]\n"
     ]
    }
   ],
   "source": [
    "a = [17,1,1,13,1,1,12,1,11]\n",
    "# def sq(n):\n",
    "#     return n*n\n",
    "print(list(map(lambda n : n*n, a)))"
   ]
  },
  {
   "cell_type": "code",
   "execution_count": 76,
   "metadata": {},
   "outputs": [
    {
     "name": "stdout",
     "output_type": "stream",
     "text": [
      "$RECYCLE.BIN\n",
      "minku\n",
      "MINKY\n",
      "Software\n",
      "System Volume Information\n",
      "Windows10Upgrade\n"
     ]
    }
   ],
   "source": [
    "import os\n",
    "dir = os.listdir(\"d:/\")\n",
    "for e in dir:\n",
    "    print(e)"
   ]
  },
  {
   "cell_type": "code",
   "execution_count": 77,
   "metadata": {},
   "outputs": [
    {
     "name": "stdout",
     "output_type": "stream",
     "text": [
      "[1, 2, 3, 4, 1, 4, 9, 16]\n"
     ]
    }
   ],
   "source": [
    "#to not get an infinite loop we can make a shallow copy\n",
    "a = [1,2,3,4]\n",
    "for e in a[:]:\n",
    "    a.append(e*e)\n",
    "print(a)"
   ]
  },
  {
   "cell_type": "code",
   "execution_count": 82,
   "metadata": {},
   "outputs": [],
   "source": [
    "class p:\n",
    "    pass\n",
    "class c(p):\n",
    "    pass\n",
    "c1 = c()\n",
    "# print(issubclass(c,p))\n",
    "# print(isinstance(c1,p))\n",
    "\n",
    "# print(isinstance(c1,c))\n",
    "# print(isinstance(c1,object))"
   ]
  },
  {
   "cell_type": "code",
   "execution_count": null,
   "metadata": {},
   "outputs": [],
   "source": [
    "#EXCEPTION HANDLING\n",
    "#Runtime errors are called Exceptions\n",
    "# In python for exception handling, we mainly use 'Try' and 'Except' blocks\n",
    "#we can say 'try' and 'except' as plan A and Plan B resp\n",
    "#  when Plan A dosen't work we use Plan B\n",
    "# There Can be two types of exception:\n",
    "# 1) specific exception: related to a specific task\n",
    "# 2) Generic Exception: For all exception\n",
    "#  Exception will always be the parent class while creating an exception class\n",
    "# RULE: WHENEVR AN EXCEPTION OCCURS , THE NORMAL FLOW WILL STOP AND WILL GO TO EXCEPTION HANDLING BLOCK\n",
    "#Either you handle the exception or gracefully terminate them\n",
    "#We can use 'Finally' method to terminate the exception which can't be handle\n",
    "# You can also 'Raise' an exception\n",
    "# While making an helper function we raise an exception rather than handling it"
   ]
  },
  {
   "cell_type": "code",
   "execution_count": 83,
   "metadata": {},
   "outputs": [
    {
     "name": "stdout",
     "output_type": "stream",
     "text": [
      "1\n",
      "Input output Error\n",
      "This will be called anyWay\n"
     ]
    }
   ],
   "source": [
    "# exception handling\n",
    "try:\n",
    "    print(1)\n",
    "    f1 =open(\"d:\\\\ NahiHai.txt\",\"r\") #I/O exception\n",
    "    i = 1/0                       # Arithmetic Exception\n",
    "    print(2)\n",
    "except IOError as e:              #I/O exception handling (specific Excepiton)\n",
    "    print(\"Input output Error\")\n",
    "    \n",
    "except Exception as e:           #Arithmetic exception Handling (Generic Exception)\n",
    "    i = 1/2\n",
    "    print(i)\n",
    "#using 'Finally' Method\n",
    "finally:\n",
    "    print(\"This will be called anyWay\")"
   ]
  },
  {
   "cell_type": "code",
   "execution_count": 87,
   "metadata": {},
   "outputs": [
    {
     "name": "stdout",
     "output_type": "stream",
     "text": [
      "enter an number:  y\n",
      "ValueError raised\n",
      "reset x to 0\n"
     ]
    }
   ],
   "source": [
    "x = 0\n",
    "try:\n",
    "    x = int(input('enter an number:  '))\n",
    "except ValueError:\n",
    "    print(\"ValueError raised\")\n",
    "else:\n",
    "    print(x)\n",
    "finally:\n",
    "    x = 0\n",
    "    print(\"reset x to\",x)"
   ]
  },
  {
   "cell_type": "code",
   "execution_count": 88,
   "metadata": {},
   "outputs": [
    {
     "name": "stdout",
     "output_type": "stream",
     "text": [
      "----------------------------------------\n",
      "Acc Bal is 4\n",
      "----------------------------------------\n",
      "Invalid rn  -1\n"
     ]
    }
   ],
   "source": [
    "#Raising an Exception\n",
    "class ECexcept(Exception):\n",
    "    pass\n",
    "\n",
    "def GetAccBal(rn):\n",
    "    if rn>0:\n",
    "        print(\"Acc Bal is %s\" %rn)\n",
    "    else:\n",
    "        raise ECexcept(\"Invalid rn  %s\"%rn)\n",
    "\n",
    "try:\n",
    "    print(\"-\"*40)\n",
    "    GetAccBal(4)\n",
    "    print(\"-\"*40)\n",
    "    GetAccBal(-1)\n",
    "    \n",
    "\n",
    "except ECexcept as e:\n",
    "    print(e)"
   ]
  },
  {
   "cell_type": "code",
   "execution_count": null,
   "metadata": {},
   "outputs": [],
   "source": []
  },
  {
   "cell_type": "code",
   "execution_count": null,
   "metadata": {},
   "outputs": [],
   "source": []
  },
  {
   "cell_type": "code",
   "execution_count": null,
   "metadata": {},
   "outputs": [],
   "source": []
  }
 ],
 "metadata": {
  "kernelspec": {
   "display_name": "Python 3",
   "language": "python",
   "name": "python3"
  },
  "language_info": {
   "codemirror_mode": {
    "name": "ipython",
    "version": 3
   },
   "file_extension": ".py",
   "mimetype": "text/x-python",
   "name": "python",
   "nbconvert_exporter": "python",
   "pygments_lexer": "ipython3",
   "version": "3.7.3"
  }
 },
 "nbformat": 4,
 "nbformat_minor": 2
}
